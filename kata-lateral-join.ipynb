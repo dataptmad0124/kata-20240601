{
 "cells": [
  {
   "cell_type": "markdown",
   "id": "a447b8b5-f16b-451f-b45c-47746f721e1e",
   "metadata": {},
   "source": [
    "# Kata:"
   ]
  },
  {
   "cell_type": "markdown",
   "id": "c7379b61-1f04-4fa2-8865-bf3e2c83b39e",
   "metadata": {},
   "source": [
    "https://www.codewars.com/kata/5820176255c3d23f360000a9/train/sql"
   ]
  },
  {
   "cell_type": "markdown",
   "id": "5e2a4659-1d95-44fb-b92c-4646b4da4e6f",
   "metadata": {},
   "source": [
    "## Your name or team members:"
   ]
  },
  {
   "cell_type": "code",
   "execution_count": null,
   "id": "29ead553-d8b4-41aa-937f-7fd045595855",
   "metadata": {},
   "outputs": [],
   "source": [
    "Juan Carlos Romero Martinez"
   ]
  },
  {
   "cell_type": "markdown",
   "id": "f04997cc-966d-4e06-8eb0-64ab376728f8",
   "metadata": {},
   "source": [
    "## Use the following cells to test your solution:"
   ]
  },
  {
   "cell_type": "code",
   "execution_count": null,
   "id": "4202edc5-f719-4068-96bd-55703a8a6c27",
   "metadata": {},
   "outputs": [],
   "source": [
    "#Not working yet, put orderby on the subquery\n",
    "SELECT *\n",
    "FROM categories as cat,\n",
    "LATERAL(\n",
    "SELECT post.title, post.views,post.category_id, post.id as post_id\n",
    "FROM posts as post\n",
    "WHERE cat.id = post.category_id LIMIT 2) as lat\n",
    "ORDER BY category ASC, views DESC"
   ]
  },
  {
   "cell_type": "code",
   "execution_count": null,
   "id": "1c1f6098-25a1-4805-a249-b833ca4a66a0",
   "metadata": {},
   "outputs": [],
   "source": [
    "SELECT *\n",
    "FROM categories as cat,\n",
    "LATERAL(\n",
    "SELECT post.title, post.views,post.category_id, post.id as post_id\n",
    "FROM posts as post\n",
    "WHERE cat.id = post.category_id \n",
    "LIMIT 2\n",
    "ORDER BY category ASC, views DESC, ) as lat\n",
    "ORDER BY category ASC, views DESC, cat.id"
   ]
  },
  {
   "cell_type": "markdown",
   "id": "5e5948ae-bfb0-4aa7-8cc0-83970accb44a",
   "metadata": {},
   "source": [
    "## Copy your submited solution here:"
   ]
  },
  {
   "cell_type": "code",
   "execution_count": null,
   "id": "de8f88a1-897b-4b92-8c9f-e04d16cec21a",
   "metadata": {},
   "outputs": [],
   "source": [
    "SELECT \n",
    "    c.id AS category_id,\n",
    "    c.category,\n",
    "    p.title,\n",
    "    p.views,\n",
    "    p.id AS post_id\n",
    "FROM \n",
    "    categories c\n",
    "LEFT JOIN LATERAL (\n",
    "    SELECT \n",
    "        po.title,\n",
    "        po.views,\n",
    "        po.category_id,\n",
    "        po.id\n",
    "    FROM \n",
    "        posts po\n",
    "    WHERE \n",
    "        po.category_id = c.id\n",
    "    ORDER BY \n",
    "        po.views DESC, \n",
    "        po.id ASC\n",
    "    LIMIT 2\n",
    ") p ON true\n",
    "ORDER BY \n",
    "    c.category ASC,\n",
    "    p.views DESC,\n",
    "    p.id ASC;"
   ]
  }
 ],
 "metadata": {
  "kernelspec": {
   "display_name": "Python 3 (ipykernel)",
   "language": "python",
   "name": "python3"
  },
  "language_info": {
   "codemirror_mode": {
    "name": "ipython",
    "version": 3
   },
   "file_extension": ".py",
   "mimetype": "text/x-python",
   "name": "python",
   "nbconvert_exporter": "python",
   "pygments_lexer": "ipython3",
   "version": "3.11.5"
  }
 },
 "nbformat": 4,
 "nbformat_minor": 5
}
